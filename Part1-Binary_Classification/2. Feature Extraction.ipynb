{
 "cells": [
  {
   "cell_type": "code",
   "execution_count": 1,
   "id": "8ed36152-98ef-40a1-a439-93961c29d3c5",
   "metadata": {},
   "outputs": [],
   "source": [
    "import matplotlib.pyplot as plt\n",
    "import pandas as pd\n",
    "import numpy as np\n",
    "import glob\n",
    "import os\n",
    "\n",
    "import librosa.display\n",
    "import soundfile"
   ]
  },
  {
   "cell_type": "markdown",
   "id": "02b2ecaf-54bb-409c-8455-44331c5e3836",
   "metadata": {},
   "source": [
    "# 0. Overview\n",
    "\n",
    "1. Spectrogram\n",
    "2. Mel Spectrogram\n",
    "3. MFCC\n",
    "4. Chromagram\n",
    "5. Combinition 1: Spectrogram(mean) with Spectral centroid and bandwidth\n",
    "6. Combinition 2: Combinition1 + Mel Spectrogram(mean) + MFCC + Chromagram(mean)"
   ]
  },
  {
   "cell_type": "markdown",
   "id": "a6f8ecdb-4b58-4366-955e-d0e9b752ad49",
   "metadata": {},
   "source": [
    "# Wrap related functions into a file: src/feature_extraction.py"
   ]
  },
  {
   "cell_type": "markdown",
   "id": "9579a41f-2da9-479c-ae1a-d3bfc4138c42",
   "metadata": {},
   "source": [
    "```python\n",
    "def feature_spectrogram(waveform, sample_rate):\n",
    "    # power spoectrogram (2D full spectrogram)\n",
    "    stft_spectrum_matrix = librosa.stft(waveform)\n",
    "    spectrogram = librosa.amplitude_to_db(np.abs(stft_spectrum_matrix), ref=np.max)\n",
    "    return spectrogram\n",
    "\n",
    "def feature_spectrogram_mean(waveform, sample_rate):\n",
    "    # power spoectrogram (get the mean of each column)\n",
    "    stft_spectrum_matrix = librosa.stft(waveform)\n",
    "    spectrogram_mean = np.mean(librosa.amplitude_to_db(np.abs(stft_spectrum_matrix), ref=np.max).T,axis=0)\n",
    "    return spectrogram_mean\n",
    "\n",
    "def feature_centroid(waveform, sample_rate):\n",
    "    centroid = librosa.feature.spectral_centroid(y=waveform, sr=sample_rate)\n",
    "    return centroid\n",
    "\n",
    "def feature_bandwidth(waveform, sample_rate):\n",
    "    bandwidth = librosa.feature.spectral_bandwidth(y=waveform, sr=sample_rate)\n",
    "    return bandwidth\n",
    "\n",
    "def feature_melspectrogram(waveform, sample_rate):\n",
    "    # Mel spoectrogram (2D full spectrogram)\n",
    "    melspectrogram=librosa.feature.melspectrogram(y=waveform, sr=sample_rate, n_mels=128, fmax=8000)\n",
    "    return melspectrogram\n",
    "\n",
    "def feature_melspectrogram_mean(waveform, sample_rate):\n",
    "    # Mel spoectrogram (get the mean of each column)\n",
    "    # Produce the mel spectrogram for all STFT frames and get the mean of each column of the resulting matrix to create a feature array\n",
    "    # Using 8khz as upper frequency bound should be enough for most speech classification tasks\n",
    "    melspectrogram=np.mean(librosa.feature.melspectrogram(y=waveform, sr=sample_rate, n_mels=128, fmax=8000).T,axis=0)\n",
    "    return melspectrogram\n",
    "\n",
    "def feature_mfcc(waveform, sample_rate):\n",
    "    # Compute the MFCCs for all STFT frames and get the mean of each column of the resulting matrix to create a feature array\n",
    "    # 40 filterbanks = 40 coefficients\n",
    "    mfc_coefficients=np.mean(librosa.feature.mfcc(y=waveform, sr=sample_rate, n_mfcc=40).T, axis=0) \n",
    "    return mfc_coefficients\n",
    "\n",
    "def feature_chromagram(waveform, sample_rate):\n",
    "    # Chromagram (2D full spectrogram)\n",
    "    stft_spectrogram=np.abs(librosa.stft(waveform))\n",
    "    chromagram=librosa.feature.chroma_stft(S=stft_spectrogram, sr=sample_rate)\n",
    "    return chromagram\n",
    "\n",
    "def feature_chromagram_mean(waveform, sample_rate):\n",
    "    # Chromagram (get the mean of each column)\n",
    "    stft_spectrogram=np.abs(librosa.stft(waveform))\n",
    "    # Produce the chromagram for all STFT frames and get the mean of each column of the resulting matrix to create a feature array\n",
    "    chromagram_mean=np.mean(librosa.feature.chroma_stft(S=stft_spectrogram, sr=sample_rate).T,axis=0)\n",
    "    return chromagram_mean\n",
    "```"
   ]
  },
  {
   "cell_type": "markdown",
   "id": "073cc0e3-fe27-4f79-826d-3f1aefeda00a",
   "metadata": {},
   "source": [
    "```python\n",
    "def create_feature_set_1(file):\n",
    "    # feature set 1: Power Spectrogram\n",
    "    with soundfile.SoundFile(file) as audio:\n",
    "        waveform = audio.read(dtype='float32')\n",
    "        sample_rate = audio.samplerate\n",
    "\n",
    "        # compute features\n",
    "        spectrogram = feature_spectrogram(waveform, sample_rate)\n",
    "\n",
    "        return spectrogram\n",
    "\n",
    "def create_feature_set_2(file):\n",
    "    # feature set 2: Mel Spectrogram\n",
    "    with soundfile.SoundFile(file) as audio:\n",
    "        waveform = audio.read(dtype='float32')\n",
    "        sample_rate = audio.samplerate\n",
    "\n",
    "        # compute features\n",
    "        melspectrogram = feature_melspectrogram(waveform, sample_rate)\n",
    "\n",
    "        return melspectrogram\n",
    "\n",
    "def create_feature_set_3(file):\n",
    "    # feature set 3: MFCC\n",
    "    with soundfile.SoundFile(file) as audio:\n",
    "        waveform = audio.read(dtype='float32')\n",
    "        sample_rate = audio.samplerate\n",
    "\n",
    "        # compute features\n",
    "        mfcc = feature_mfcc(waveform, sample_rate)\n",
    "\n",
    "        return mfcc\n",
    "\n",
    "def create_feature_set_4(file):\n",
    "    # feature set 4: Chromagram\n",
    "    with soundfile.SoundFile(file) as audio:\n",
    "        waveform = audio.read(dtype='float32')\n",
    "        sample_rate = audio.samplerate\n",
    "\n",
    "        # compute features\n",
    "        chromagram = feature_chromagram(waveform, sample_rate)\n",
    "\n",
    "        return chromagram\n",
    "\n",
    "def create_feature_set_5(file):\n",
    "    # feature set 5: Combination 1: spectrogram with spectral centroid and bandwidth\n",
    "    with soundfile.SoundFile(file) as audio:\n",
    "        waveform = audio.read(dtype='float32')\n",
    "        sample_rate = audio.samplerate\n",
    "\n",
    "        # compute features\n",
    "        spectrogram_mean = feature_spectrogram_mean(waveform, sample_rate)\n",
    "        centroid = feature_centroid(waveform, sample_rate)\n",
    "        bandwidth = feature_bandwidth(waveform, sample_rate)\n",
    "        # upper_bound = centroid[0] + bandwidth[0]\n",
    "        # lower_bound = centroid[0] - bandwidth[0]\n",
    "        \n",
    "        feature_matrix=np.array([])\n",
    "        # use np.hstack to stack our feature arrays horizontally to create a feature matrix\n",
    "        # feature_matrix = np.hstack((spectrogram, upper_bound, lower_bound))\n",
    "        feature_matrix = np.hstack((spectrogram_mean, centroid.flatten(), bandwidth.flatten()))\n",
    "        \n",
    "        return feature_matrix\n",
    "\n",
    "def create_feature_set_6(file):\n",
    "    # feature set 6: All\n",
    "    with soundfile.SoundFile(file) as audio:\n",
    "        waveform = audio.read(dtype='float32')\n",
    "        sample_rate = audio.samplerate\n",
    "\n",
    "        # compute features\n",
    "        spectrogram_mean = feature_spectrogram_mean(waveform, sample_rate)\n",
    "        centroid = feature_centroid(waveform, sample_rate)\n",
    "        bandwidth = feature_bandwidth(waveform, sample_rate)\n",
    "        # upper_bound = centroid[0] + bandwidth[0]\n",
    "        # lower_bound = centroid[0] - bandwidth[0]\n",
    "\n",
    "        melspectrogram_mean = feature_melspectrogram_mean(waveform, sample_rate)\n",
    "        mfcc = feature_mfcc(waveform, sample_rate)\n",
    "        chromagram_mean = feature_chromagram_mean(waveform, sample_rate)\n",
    "\n",
    "        feature_matrix=np.array([])\n",
    "        # use np.hstack to stack our feature arrays horizontally to create a feature matrix\n",
    "        feature_matrix = np.hstack((spectrogram_mean, centroid.flatten(), bandwidth.flatten(), melspectrogram_mean, mfcc, chromagram_mean))\n",
    "\n",
    "        return feature_matrix\n",
    "\n",
    "```"
   ]
  },
  {
   "cell_type": "markdown",
   "id": "be2623e8-7e8a-4e50-bac9-087364cb4fbb",
   "metadata": {},
   "source": [
    "```python\n",
    "# Classes in the dataset\n",
    "activities ={\n",
    "  'I':0,\n",
    "  'E':1\n",
    "}\n",
    "```"
   ]
  },
  {
   "cell_type": "markdown",
   "id": "d96dee52-d780-4e76-9dfc-c3ecfe8a94de",
   "metadata": {},
   "source": [
    "# 1. Have a look at the feature dimentions"
   ]
  },
  {
   "cell_type": "code",
   "execution_count": 2,
   "id": "a55cee7f-07eb-4d4e-8ade-eb2ae2d8afb0",
   "metadata": {},
   "outputs": [],
   "source": [
    "from src.feature_extraction import *"
   ]
  },
  {
   "cell_type": "code",
   "execution_count": 3,
   "id": "19e8ee9d-6efe-4b55-9334-877f5303deab",
   "metadata": {},
   "outputs": [],
   "source": [
    "# load a sample\n",
    "with soundfile.SoundFile( r'..\\0. data\\2. Data_wav\\E79.wav') as audio:\n",
    "    waveform = audio.read(dtype='float32')\n",
    "    sample_rate = audio.samplerate"
   ]
  },
  {
   "cell_type": "code",
   "execution_count": 4,
   "id": "b3a1e09e-2521-42b4-9773-e91e505dd03f",
   "metadata": {},
   "outputs": [],
   "source": [
    "spectrogram = feature_spectrogram(waveform, sample_rate)\n",
    "spectrogram_mean = feature_spectrogram_mean(waveform, sample_rate)\n",
    "centroid = feature_centroid(waveform, sample_rate)\n",
    "bandwidth = feature_bandwidth(waveform, sample_rate)\n",
    "# upper_bound = centroid[0] + bandwidth[0]\n",
    "# lower_bound = centroid[0] - bandwidth[0]\n",
    "melspectrogram = feature_melspectrogram(waveform, sample_rate)\n",
    "melspectrogram_mean = feature_melspectrogram_mean(waveform, sample_rate)\n",
    "mfcc = feature_mfcc(waveform, sample_rate)\n",
    "chromagram = feature_chromagram(waveform, sample_rate)\n",
    "chromagram_mean = feature_chromagram_mean(waveform, sample_rate)"
   ]
  },
  {
   "cell_type": "code",
   "execution_count": 5,
   "id": "64a5e2d1-185f-4f7e-8a32-07d9da589d59",
   "metadata": {},
   "outputs": [
    {
     "data": {
      "text/plain": [
       "(1025, 142)"
      ]
     },
     "execution_count": 5,
     "metadata": {},
     "output_type": "execute_result"
    }
   ],
   "source": [
    "spectrogram.shape"
   ]
  },
  {
   "cell_type": "code",
   "execution_count": 6,
   "id": "73c863ec-75e2-45d4-8811-699dfc12ab47",
   "metadata": {},
   "outputs": [
    {
     "data": {
      "text/plain": [
       "(1025,)"
      ]
     },
     "execution_count": 6,
     "metadata": {},
     "output_type": "execute_result"
    }
   ],
   "source": [
    "spectrogram_mean.shape"
   ]
  },
  {
   "cell_type": "code",
   "execution_count": 7,
   "id": "d72b5335-00a7-4bb6-a517-e118b79597ef",
   "metadata": {},
   "outputs": [
    {
     "data": {
      "text/plain": [
       "(1, 142)"
      ]
     },
     "execution_count": 7,
     "metadata": {},
     "output_type": "execute_result"
    }
   ],
   "source": [
    "centroid.shape"
   ]
  },
  {
   "cell_type": "code",
   "execution_count": 8,
   "id": "c595af01-e87d-49ae-aa82-24f566bcee2c",
   "metadata": {},
   "outputs": [
    {
     "data": {
      "text/plain": [
       "(1, 142)"
      ]
     },
     "execution_count": 8,
     "metadata": {},
     "output_type": "execute_result"
    }
   ],
   "source": [
    "bandwidth.shape"
   ]
  },
  {
   "cell_type": "code",
   "execution_count": 9,
   "id": "511168ea-811e-4dc1-869c-8706afa9983b",
   "metadata": {},
   "outputs": [
    {
     "data": {
      "text/plain": [
       "(128, 142)"
      ]
     },
     "execution_count": 9,
     "metadata": {},
     "output_type": "execute_result"
    }
   ],
   "source": [
    "melspectrogram.shape"
   ]
  },
  {
   "cell_type": "code",
   "execution_count": 10,
   "id": "6e1f9478-4637-44ff-860e-09b9bb7bb711",
   "metadata": {},
   "outputs": [
    {
     "data": {
      "text/plain": [
       "(128,)"
      ]
     },
     "execution_count": 10,
     "metadata": {},
     "output_type": "execute_result"
    }
   ],
   "source": [
    "melspectrogram_mean.shape"
   ]
  },
  {
   "cell_type": "code",
   "execution_count": 11,
   "id": "7acca746-be12-401d-9a37-ce56bc39fbc9",
   "metadata": {},
   "outputs": [
    {
     "data": {
      "text/plain": [
       "(40,)"
      ]
     },
     "execution_count": 11,
     "metadata": {},
     "output_type": "execute_result"
    }
   ],
   "source": [
    "mfcc.shape"
   ]
  },
  {
   "cell_type": "code",
   "execution_count": 12,
   "id": "c3883b3a-82e5-4343-86b6-81852e8e7717",
   "metadata": {},
   "outputs": [
    {
     "data": {
      "text/plain": [
       "(12, 142)"
      ]
     },
     "execution_count": 12,
     "metadata": {},
     "output_type": "execute_result"
    }
   ],
   "source": [
    "chromagram.shape"
   ]
  },
  {
   "cell_type": "code",
   "execution_count": 13,
   "id": "a79999a5-59d5-4c99-b583-9054f9e1412d",
   "metadata": {},
   "outputs": [
    {
     "data": {
      "text/plain": [
       "(12,)"
      ]
     },
     "execution_count": 13,
     "metadata": {},
     "output_type": "execute_result"
    }
   ],
   "source": [
    "chromagram_mean.shape"
   ]
  },
  {
   "cell_type": "markdown",
   "id": "08127fb4-4152-4d61-bf50-bea2c5acee7b",
   "metadata": {},
   "source": [
    "# 2. Scaling, splitting and save the features\n",
    "\n",
    "Data Split & Feature Transformation"
   ]
  },
  {
   "cell_type": "code",
   "execution_count": 14,
   "id": "9bf5fa27-89c9-4fd4-a81c-0a13d11f643f",
   "metadata": {},
   "outputs": [],
   "source": [
    "from sklearn.preprocessing import MinMaxScaler\n",
    "from sklearn.model_selection import train_test_split"
   ]
  },
  {
   "cell_type": "markdown",
   "id": "b2a7ea07-e7e5-4685-9c7a-747f743573d9",
   "metadata": {},
   "source": [
    "## 2.1 Data Split"
   ]
  },
  {
   "cell_type": "code",
   "execution_count": 15,
   "id": "6fa415d0-5968-409e-bdaa-6a72c1711eb3",
   "metadata": {},
   "outputs": [],
   "source": [
    "def load_data(feature_set_number):\n",
    "    data_folder = r'..\\0. data\\2. Data_wav' \n",
    "    X,y=[],[]\n",
    "    count = 0\n",
    "    for file in glob.glob(data_folder+\"\\\\*.wav\"):\n",
    "        file_name=os.path.basename(file)\n",
    "        activity=activities[file_name[0]]\n",
    "        if feature_set_number == 1:\n",
    "            features = create_feature_set_1(file)\n",
    "        elif feature_set_number == 2:\n",
    "            features = create_feature_set_2(file)\n",
    "        elif feature_set_number == 3:\n",
    "            features = create_feature_set_3(file)\n",
    "        elif feature_set_number == 4:\n",
    "            features = create_feature_set_4(file)\n",
    "        elif feature_set_number == 5:\n",
    "            features = create_feature_set_5(file)\n",
    "        elif feature_set_number == 6:\n",
    "            features = create_feature_set_6(file)\n",
    "            \n",
    "        X.append(features)\n",
    "        y.append(activity)\n",
    "        count += 1\n",
    "        # '\\r' + end='' results in printing over same line\n",
    "        print('\\r' + f' Processed {count}/{300} audio samples',end=' ')\n",
    "    # # Return arrays to plug into sklearn's cross-validation algorithms\n",
    "    return np.array(X), np.array(y)"
   ]
  },
  {
   "cell_type": "markdown",
   "id": "95eac70d-d9e5-4744-adc3-04ae8eb4d382",
   "metadata": {},
   "source": [
    "## 2.1.1 Feature set 1"
   ]
  },
  {
   "cell_type": "code",
   "execution_count": 16,
   "id": "aa21ea14-f243-4419-bd3b-546edbf8f789",
   "metadata": {},
   "outputs": [
    {
     "name": "stdout",
     "output_type": "stream",
     "text": [
      " Processed 300/300 audio samples  Train and Test Size 240, 60\n",
      "Feature set shape:  (240, 1025, 142)\n"
     ]
    }
   ],
   "source": [
    "X,y = load_data(feature_set_number=1)\n",
    "\n",
    "X_train_1, X_test_1, y_train, y_test = train_test_split(X, y, test_size=0.2, shuffle=True)\n",
    "\n",
    "# Output the train and test data size and shape\n",
    "print(f\"Train and Test Size {len(X_train_1)}, {len(X_test_1)}\")\n",
    "print(\"Feature set shape: \", X_train_1.shape)"
   ]
  },
  {
   "cell_type": "markdown",
   "id": "cd69bf3c-ec22-4872-9533-a5cc408cd531",
   "metadata": {},
   "source": [
    "## 2.1.2 Feature set 2"
   ]
  },
  {
   "cell_type": "code",
   "execution_count": 17,
   "id": "a1236168-6b2f-41e5-81a8-c04d4440b8e9",
   "metadata": {},
   "outputs": [
    {
     "name": "stdout",
     "output_type": "stream",
     "text": [
      " Processed 300/300 audio samples Train and Test Size 240, 60\n",
      "Feature set shape:  (240, 128, 142)\n"
     ]
    }
   ],
   "source": [
    "X,y = load_data(feature_set_number=2)\n",
    "\n",
    "X_train_2, X_test_2, y_train, y_test = train_test_split(X, y, test_size=0.2, shuffle=True)\n",
    "\n",
    "# Output the train and test data size and shape\n",
    "print(f\"Train and Test Size {len(X_train_2)}, {len(X_test_2)}\")\n",
    "print(\"Feature set shape: \", X_train_2.shape)"
   ]
  },
  {
   "cell_type": "markdown",
   "id": "d5a26dba-15ac-42b6-bcd3-85d1770f738d",
   "metadata": {},
   "source": [
    "## 2.1.3 Feature set 3"
   ]
  },
  {
   "cell_type": "code",
   "execution_count": 18,
   "id": "eda54c16-2c28-4e2b-97b0-42543be1f286",
   "metadata": {},
   "outputs": [
    {
     "name": "stdout",
     "output_type": "stream",
     "text": [
      " Processed 300/300 audio samples Train and Test Size 240, 60\n",
      "Feature set shape:  (240, 40)\n"
     ]
    }
   ],
   "source": [
    "X,y = load_data(feature_set_number=3)\n",
    "\n",
    "X_train_3, X_test_3, y_train, y_test = train_test_split(X, y, test_size=0.2, shuffle=True)\n",
    "\n",
    "# Output the train and test data size and shape\n",
    "print(f\"Train and Test Size {len(X_train_3)}, {len(X_test_3)}\")\n",
    "print(\"Feature set shape: \", X_train_3.shape)"
   ]
  },
  {
   "cell_type": "markdown",
   "id": "337dfdfe-bde6-4312-9e9b-554204f268aa",
   "metadata": {},
   "source": [
    "## 2.1.4 Feature set 4"
   ]
  },
  {
   "cell_type": "code",
   "execution_count": 19,
   "id": "076eb208-5c47-4432-ba1c-462d64fc2fa3",
   "metadata": {},
   "outputs": [
    {
     "name": "stdout",
     "output_type": "stream",
     "text": [
      " Processed 300/300 audio samples Train and Test Size 240, 60\n",
      "Feature set shape:  (240, 12, 142)\n"
     ]
    }
   ],
   "source": [
    "X,y = load_data(feature_set_number=4)\n",
    "\n",
    "X_train_4, X_test_4, y_train, y_test = train_test_split(X, y, test_size=0.2, shuffle=True)\n",
    "\n",
    "# Output the train and test data size and shape\n",
    "print(f\"Train and Test Size {len(X_train_4)}, {len(X_test_4)}\")\n",
    "print(\"Feature set shape: \", X_train_4.shape)"
   ]
  },
  {
   "cell_type": "markdown",
   "id": "c062bdc9-0d28-4cfd-b921-b4fe7b0ea0bc",
   "metadata": {},
   "source": [
    "## 2.1.5 Feature set 5"
   ]
  },
  {
   "cell_type": "code",
   "execution_count": 20,
   "id": "4899201e-4021-49b8-982e-82745f8b204a",
   "metadata": {},
   "outputs": [
    {
     "name": "stdout",
     "output_type": "stream",
     "text": [
      " Processed 300/300 audio samples Train and Test Size 240, 60\n",
      "Feature set shape:  (240, 1309)\n"
     ]
    }
   ],
   "source": [
    "X,y = load_data(feature_set_number=5)\n",
    "\n",
    "X_train_5, X_test_5, y_train, y_test = train_test_split(X, y, test_size=0.2, shuffle=True)\n",
    "\n",
    "# Output the train and test data size and shape\n",
    "print(f\"Train and Test Size {len(X_train_5)}, {len(X_test_5)}\")\n",
    "print(\"Feature set shape: \", X_train_5.shape)"
   ]
  },
  {
   "cell_type": "markdown",
   "id": "07e821b6-9080-43bd-aa20-a9788378160d",
   "metadata": {},
   "source": [
    "## 2.1.6 Feature set 6"
   ]
  },
  {
   "cell_type": "code",
   "execution_count": 21,
   "id": "14af3740-b660-460b-bcab-028e190cebbd",
   "metadata": {},
   "outputs": [
    {
     "name": "stdout",
     "output_type": "stream",
     "text": [
      " Processed 300/300 audio samples Train and Test Size 240, 60\n",
      "Feature set shape:  (240, 1489)\n"
     ]
    }
   ],
   "source": [
    "X,y = load_data(feature_set_number=6)\n",
    "\n",
    "X_train_6, X_test_6, y_train, y_test = train_test_split(X, y, test_size=0.2, shuffle=True)\n",
    "\n",
    "# Output the train and test data size and shape\n",
    "print(f\"Train and Test Size {len(X_train_6)}, {len(X_test_6)}\")\n",
    "print(\"Feature set shape: \", X_train_6.shape)"
   ]
  },
  {
   "cell_type": "markdown",
   "id": "cab50df7-da60-488b-9f2c-6c301e307b3d",
   "metadata": {},
   "source": [
    "## 2.2 Save all feature sets"
   ]
  },
  {
   "cell_type": "code",
   "execution_count": 22,
   "id": "539b1c77-0000-44ac-8b8c-77c29f486e77",
   "metadata": {},
   "outputs": [],
   "source": [
    "y_train = pd.DataFrame(y_train)\n",
    "y_test = pd.DataFrame(y_test)\n",
    "\n",
    "X_train_1 = pd.DataFrame(X_train_1.reshape(240,-1))\n",
    "X_test_1 = pd.DataFrame(X_test_1.reshape(60,-1))\n",
    "\n",
    "X_train_2 = pd.DataFrame(X_train_2.reshape(240,-1))\n",
    "X_test_2 = pd.DataFrame(X_test_2.reshape(60,-1))\n",
    "\n",
    "X_train_3 = pd.DataFrame(X_train_3)\n",
    "X_test_3 = pd.DataFrame(X_test_3)\n",
    "\n",
    "X_train_4 = pd.DataFrame(X_train_4.reshape(240,-1))\n",
    "X_test_4 = pd.DataFrame(X_test_4.reshape(60,-1))\n",
    "\n",
    "X_train_5 = pd.DataFrame(X_train_5)\n",
    "X_test_5 = pd.DataFrame(X_test_5)\n",
    "\n",
    "X_train_6 = pd.DataFrame(X_train_6)\n",
    "X_test_6 = pd.DataFrame(X_test_6)"
   ]
  },
  {
   "cell_type": "code",
   "execution_count": 23,
   "id": "3d311e4f-7f38-4541-bec5-3ea45a1d31fb",
   "metadata": {},
   "outputs": [
    {
     "name": "stdout",
     "output_type": "stream",
     "text": [
      "File: features\\y_train.csv, saved\n",
      "File: features\\y_test.csv, saved\n",
      "File: features\\X_train_1.csv, saved\n",
      "File: features\\X_test_1.csv, saved\n",
      "File: features\\X_train_2.csv, saved\n",
      "File: features\\X_test_2.csv, saved\n",
      "File: features\\X_train_3.csv, saved\n",
      "File: features\\X_test_3.csv, saved\n",
      "File: features\\X_train_4.csv, saved\n",
      "File: features\\X_test_4.csv, saved\n",
      "File: features\\X_train_5.csv, saved\n",
      "File: features\\X_test_5.csv, saved\n",
      "File: features\\X_train_6.csv, saved\n",
      "File: features\\X_test_6.csv, saved\n"
     ]
    }
   ],
   "source": [
    "# Save the data to Excel\n",
    "data_path = 'features'\n",
    "\n",
    "# Check if the directory exists, if not, create it\n",
    "if not os.path.exists(data_path):\n",
    "    os.makedirs(data_path)\n",
    "\n",
    "# Save to csv files\n",
    "file_path = os.path.join(data_path, 'y_train.csv')\n",
    "y_train.to_csv(file_path)\n",
    "print(f\"File: {file_path}, saved\")\n",
    "\n",
    "file_path = os.path.join(data_path, 'y_test.csv')\n",
    "y_test.to_csv(file_path)\n",
    "print(f\"File: {file_path}, saved\")\n",
    "\n",
    "file_path = os.path.join(data_path, 'X_train_1.csv')\n",
    "X_train_1.to_csv(file_path)\n",
    "print(f\"File: {file_path}, saved\")\n",
    "\n",
    "file_path = os.path.join(data_path, 'X_test_1.csv')\n",
    "X_test_1.to_csv(file_path)\n",
    "print(f\"File: {file_path}, saved\")\n",
    "\n",
    "file_path = os.path.join(data_path, 'X_train_2.csv')\n",
    "X_train_2.to_csv(file_path)\n",
    "print(f\"File: {file_path}, saved\")\n",
    "\n",
    "file_path = os.path.join(data_path, 'X_test_2.csv')\n",
    "X_test_2.to_csv(file_path)\n",
    "print(f\"File: {file_path}, saved\")\n",
    "\n",
    "file_path = os.path.join(data_path, 'X_train_3.csv')\n",
    "X_train_3.to_csv(file_path)\n",
    "print(f\"File: {file_path}, saved\")\n",
    "\n",
    "file_path = os.path.join(data_path, 'X_test_3.csv')\n",
    "X_test_3.to_csv(file_path)\n",
    "print(f\"File: {file_path}, saved\")\n",
    "\n",
    "file_path = os.path.join(data_path, 'X_train_4.csv')\n",
    "X_train_4.to_csv(file_path)\n",
    "print(f\"File: {file_path}, saved\")\n",
    "\n",
    "file_path = os.path.join(data_path, 'X_test_4.csv')\n",
    "X_test_4.to_csv(file_path)\n",
    "print(f\"File: {file_path}, saved\")\n",
    "\n",
    "file_path = os.path.join(data_path, 'X_train_5.csv')\n",
    "X_train_5.to_csv(file_path)\n",
    "print(f\"File: {file_path}, saved\")\n",
    "\n",
    "file_path = os.path.join(data_path, 'X_test_5.csv')\n",
    "X_test_5.to_csv(file_path)\n",
    "print(f\"File: {file_path}, saved\")\n",
    "\n",
    "file_path = os.path.join(data_path, 'X_train_6.csv')\n",
    "X_train_6.to_csv(file_path)\n",
    "print(f\"File: {file_path}, saved\")\n",
    "\n",
    "file_path = os.path.join(data_path, 'X_test_6.csv')\n",
    "X_test_6.to_csv(file_path)\n",
    "print(f\"File: {file_path}, saved\")"
   ]
  },
  {
   "cell_type": "markdown",
   "id": "b982a79c-12b1-4e95-ae96-410e1d7e25e7",
   "metadata": {},
   "source": [
    "# Wrap datasets into a file: src/data_loader.py"
   ]
  },
  {
   "cell_type": "markdown",
   "id": "16348e77-6c0f-4ae9-a922-0cab789f2cee",
   "metadata": {},
   "source": [
    "```python\n",
    "# data_loader.py\n",
    "\n",
    "import pandas as pd\n",
    "\n",
    "def load_data():\n",
    "    # Load y_train\n",
    "    y_train = pd.read_csv('features/y_train.csv', index_col=0)\n",
    "    # Load y_test\n",
    "    y_test = pd.read_csv('features/y_test.csv', index_col=0)\n",
    "\n",
    "    # Feature set 1: Spectrogram\n",
    "    X_train_1 = pd.read_csv('features/X_train_1.csv', index_col=0)\n",
    "    X_test_1 = pd.read_csv('features/X_test_1.csv', index_col=0)\n",
    "\n",
    "    # Feature set 2: Melspectrogram\n",
    "    X_train_2 = pd.read_csv('features/X_train_2.csv', index_col=0)\n",
    "    X_test_2 = pd.read_csv('features/X_test_2.csv', index_col=0)\n",
    "\n",
    "    # Feature set 3: MFCC\n",
    "    X_train_3 = pd.read_csv('features/X_train_3.csv', index_col=0)\n",
    "    X_test_3 = pd.read_csv('features/X_test_3.csv', index_col=0)\n",
    "    \n",
    "    # Feature set 4: Chromagram\n",
    "    X_train_4 = pd.read_csv('features/X_train_4.csv', index_col=0)\n",
    "    X_test_4 = pd.read_csv('features/X_test_4.csv', index_col=0)\n",
    "\n",
    "    # Feature set 5: Combination 1\n",
    "    X_train_5 = pd.read_csv('features/X_train_5.csv', index_col=0)\n",
    "    X_test_5 = pd.read_csv('features/X_test_5.csv', index_col=0)\n",
    "\n",
    "    # Feature set 6: Combination 2\n",
    "    X_train_6 = pd.read_csv('features/X_train_6.csv', index_col=0)\n",
    "    X_test_6 = pd.read_csv('features/X_test_6.csv', index_col=0)\n",
    "    \n",
    "    return (y_train, y_test, \n",
    "            X_train_1, X_test_1,\n",
    "            X_train_2, X_test_2,\n",
    "            X_train_3, X_test_3,\n",
    "            X_train_4, X_test_4,\n",
    "            X_train_5, X_test_5,\n",
    "            X_train_6, X_test_6)\n",
    "\n",
    "```"
   ]
  },
  {
   "cell_type": "code",
   "execution_count": 24,
   "id": "388eef0c-45b4-4e17-bdca-15514a480dbb",
   "metadata": {},
   "outputs": [],
   "source": [
    "from src.data_loader import load_data\n",
    "\n",
    "# Load the data\n",
    "(y_train, y_test, \n",
    "X_train_1, X_test_1,\n",
    "X_train_2, X_test_2,\n",
    "X_train_3, X_test_3,\n",
    "X_train_4, X_test_4,\n",
    "X_train_5, X_test_5,\n",
    "X_train_6, X_test_6)= load_data(transform=True)"
   ]
  },
  {
   "cell_type": "code",
   "execution_count": 25,
   "id": "d07332dd-188e-4690-88ae-a2035cd17cb3",
   "metadata": {},
   "outputs": [
    {
     "data": {
      "text/plain": [
       "(60, 1)"
      ]
     },
     "execution_count": 25,
     "metadata": {},
     "output_type": "execute_result"
    }
   ],
   "source": [
    "y_test.shape"
   ]
  },
  {
   "cell_type": "code",
   "execution_count": 26,
   "id": "4de34856-89a5-4356-a32e-52124642def6",
   "metadata": {},
   "outputs": [
    {
     "data": {
      "text/html": [
       "<div>\n",
       "<style scoped>\n",
       "    .dataframe tbody tr th:only-of-type {\n",
       "        vertical-align: middle;\n",
       "    }\n",
       "\n",
       "    .dataframe tbody tr th {\n",
       "        vertical-align: top;\n",
       "    }\n",
       "\n",
       "    .dataframe thead th {\n",
       "        text-align: right;\n",
       "    }\n",
       "</style>\n",
       "<table border=\"1\" class=\"dataframe\">\n",
       "  <thead>\n",
       "    <tr style=\"text-align: right;\">\n",
       "      <th></th>\n",
       "      <th>0</th>\n",
       "    </tr>\n",
       "  </thead>\n",
       "  <tbody>\n",
       "    <tr>\n",
       "      <th>0</th>\n",
       "      <td>0</td>\n",
       "    </tr>\n",
       "    <tr>\n",
       "      <th>1</th>\n",
       "      <td>1</td>\n",
       "    </tr>\n",
       "    <tr>\n",
       "      <th>2</th>\n",
       "      <td>1</td>\n",
       "    </tr>\n",
       "    <tr>\n",
       "      <th>3</th>\n",
       "      <td>0</td>\n",
       "    </tr>\n",
       "    <tr>\n",
       "      <th>4</th>\n",
       "      <td>0</td>\n",
       "    </tr>\n",
       "    <tr>\n",
       "      <th>5</th>\n",
       "      <td>0</td>\n",
       "    </tr>\n",
       "    <tr>\n",
       "      <th>6</th>\n",
       "      <td>1</td>\n",
       "    </tr>\n",
       "    <tr>\n",
       "      <th>7</th>\n",
       "      <td>0</td>\n",
       "    </tr>\n",
       "    <tr>\n",
       "      <th>8</th>\n",
       "      <td>0</td>\n",
       "    </tr>\n",
       "    <tr>\n",
       "      <th>9</th>\n",
       "      <td>1</td>\n",
       "    </tr>\n",
       "    <tr>\n",
       "      <th>10</th>\n",
       "      <td>0</td>\n",
       "    </tr>\n",
       "    <tr>\n",
       "      <th>11</th>\n",
       "      <td>1</td>\n",
       "    </tr>\n",
       "    <tr>\n",
       "      <th>12</th>\n",
       "      <td>0</td>\n",
       "    </tr>\n",
       "    <tr>\n",
       "      <th>13</th>\n",
       "      <td>1</td>\n",
       "    </tr>\n",
       "    <tr>\n",
       "      <th>14</th>\n",
       "      <td>1</td>\n",
       "    </tr>\n",
       "    <tr>\n",
       "      <th>15</th>\n",
       "      <td>0</td>\n",
       "    </tr>\n",
       "    <tr>\n",
       "      <th>16</th>\n",
       "      <td>1</td>\n",
       "    </tr>\n",
       "    <tr>\n",
       "      <th>17</th>\n",
       "      <td>1</td>\n",
       "    </tr>\n",
       "    <tr>\n",
       "      <th>18</th>\n",
       "      <td>0</td>\n",
       "    </tr>\n",
       "    <tr>\n",
       "      <th>19</th>\n",
       "      <td>1</td>\n",
       "    </tr>\n",
       "    <tr>\n",
       "      <th>20</th>\n",
       "      <td>0</td>\n",
       "    </tr>\n",
       "    <tr>\n",
       "      <th>21</th>\n",
       "      <td>1</td>\n",
       "    </tr>\n",
       "    <tr>\n",
       "      <th>22</th>\n",
       "      <td>0</td>\n",
       "    </tr>\n",
       "    <tr>\n",
       "      <th>23</th>\n",
       "      <td>0</td>\n",
       "    </tr>\n",
       "    <tr>\n",
       "      <th>24</th>\n",
       "      <td>0</td>\n",
       "    </tr>\n",
       "    <tr>\n",
       "      <th>25</th>\n",
       "      <td>1</td>\n",
       "    </tr>\n",
       "    <tr>\n",
       "      <th>26</th>\n",
       "      <td>0</td>\n",
       "    </tr>\n",
       "    <tr>\n",
       "      <th>27</th>\n",
       "      <td>1</td>\n",
       "    </tr>\n",
       "    <tr>\n",
       "      <th>28</th>\n",
       "      <td>1</td>\n",
       "    </tr>\n",
       "    <tr>\n",
       "      <th>29</th>\n",
       "      <td>1</td>\n",
       "    </tr>\n",
       "    <tr>\n",
       "      <th>30</th>\n",
       "      <td>1</td>\n",
       "    </tr>\n",
       "    <tr>\n",
       "      <th>31</th>\n",
       "      <td>0</td>\n",
       "    </tr>\n",
       "    <tr>\n",
       "      <th>32</th>\n",
       "      <td>1</td>\n",
       "    </tr>\n",
       "    <tr>\n",
       "      <th>33</th>\n",
       "      <td>0</td>\n",
       "    </tr>\n",
       "    <tr>\n",
       "      <th>34</th>\n",
       "      <td>0</td>\n",
       "    </tr>\n",
       "    <tr>\n",
       "      <th>35</th>\n",
       "      <td>1</td>\n",
       "    </tr>\n",
       "    <tr>\n",
       "      <th>36</th>\n",
       "      <td>1</td>\n",
       "    </tr>\n",
       "    <tr>\n",
       "      <th>37</th>\n",
       "      <td>1</td>\n",
       "    </tr>\n",
       "    <tr>\n",
       "      <th>38</th>\n",
       "      <td>1</td>\n",
       "    </tr>\n",
       "    <tr>\n",
       "      <th>39</th>\n",
       "      <td>1</td>\n",
       "    </tr>\n",
       "    <tr>\n",
       "      <th>40</th>\n",
       "      <td>1</td>\n",
       "    </tr>\n",
       "    <tr>\n",
       "      <th>41</th>\n",
       "      <td>0</td>\n",
       "    </tr>\n",
       "    <tr>\n",
       "      <th>42</th>\n",
       "      <td>1</td>\n",
       "    </tr>\n",
       "    <tr>\n",
       "      <th>43</th>\n",
       "      <td>0</td>\n",
       "    </tr>\n",
       "    <tr>\n",
       "      <th>44</th>\n",
       "      <td>0</td>\n",
       "    </tr>\n",
       "    <tr>\n",
       "      <th>45</th>\n",
       "      <td>0</td>\n",
       "    </tr>\n",
       "    <tr>\n",
       "      <th>46</th>\n",
       "      <td>1</td>\n",
       "    </tr>\n",
       "    <tr>\n",
       "      <th>47</th>\n",
       "      <td>1</td>\n",
       "    </tr>\n",
       "    <tr>\n",
       "      <th>48</th>\n",
       "      <td>0</td>\n",
       "    </tr>\n",
       "    <tr>\n",
       "      <th>49</th>\n",
       "      <td>0</td>\n",
       "    </tr>\n",
       "    <tr>\n",
       "      <th>50</th>\n",
       "      <td>0</td>\n",
       "    </tr>\n",
       "    <tr>\n",
       "      <th>51</th>\n",
       "      <td>0</td>\n",
       "    </tr>\n",
       "    <tr>\n",
       "      <th>52</th>\n",
       "      <td>0</td>\n",
       "    </tr>\n",
       "    <tr>\n",
       "      <th>53</th>\n",
       "      <td>1</td>\n",
       "    </tr>\n",
       "    <tr>\n",
       "      <th>54</th>\n",
       "      <td>0</td>\n",
       "    </tr>\n",
       "    <tr>\n",
       "      <th>55</th>\n",
       "      <td>1</td>\n",
       "    </tr>\n",
       "    <tr>\n",
       "      <th>56</th>\n",
       "      <td>1</td>\n",
       "    </tr>\n",
       "    <tr>\n",
       "      <th>57</th>\n",
       "      <td>0</td>\n",
       "    </tr>\n",
       "    <tr>\n",
       "      <th>58</th>\n",
       "      <td>1</td>\n",
       "    </tr>\n",
       "    <tr>\n",
       "      <th>59</th>\n",
       "      <td>1</td>\n",
       "    </tr>\n",
       "  </tbody>\n",
       "</table>\n",
       "</div>"
      ],
      "text/plain": [
       "    0\n",
       "0   0\n",
       "1   1\n",
       "2   1\n",
       "3   0\n",
       "4   0\n",
       "5   0\n",
       "6   1\n",
       "7   0\n",
       "8   0\n",
       "9   1\n",
       "10  0\n",
       "11  1\n",
       "12  0\n",
       "13  1\n",
       "14  1\n",
       "15  0\n",
       "16  1\n",
       "17  1\n",
       "18  0\n",
       "19  1\n",
       "20  0\n",
       "21  1\n",
       "22  0\n",
       "23  0\n",
       "24  0\n",
       "25  1\n",
       "26  0\n",
       "27  1\n",
       "28  1\n",
       "29  1\n",
       "30  1\n",
       "31  0\n",
       "32  1\n",
       "33  0\n",
       "34  0\n",
       "35  1\n",
       "36  1\n",
       "37  1\n",
       "38  1\n",
       "39  1\n",
       "40  1\n",
       "41  0\n",
       "42  1\n",
       "43  0\n",
       "44  0\n",
       "45  0\n",
       "46  1\n",
       "47  1\n",
       "48  0\n",
       "49  0\n",
       "50  0\n",
       "51  0\n",
       "52  0\n",
       "53  1\n",
       "54  0\n",
       "55  1\n",
       "56  1\n",
       "57  0\n",
       "58  1\n",
       "59  1"
      ]
     },
     "execution_count": 26,
     "metadata": {},
     "output_type": "execute_result"
    }
   ],
   "source": [
    "y_test"
   ]
  }
 ],
 "metadata": {
  "kernelspec": {
   "display_name": "Python 3 (ipykernel)",
   "language": "python",
   "name": "python3"
  },
  "language_info": {
   "codemirror_mode": {
    "name": "ipython",
    "version": 3
   },
   "file_extension": ".py",
   "mimetype": "text/x-python",
   "name": "python",
   "nbconvert_exporter": "python",
   "pygments_lexer": "ipython3",
   "version": "3.9.5"
  }
 },
 "nbformat": 4,
 "nbformat_minor": 5
}
