{
 "cells": [
  {
   "cell_type": "code",
   "execution_count": 1,
   "id": "0f166a7b-0480-493c-9ae6-8f9e3098bf3d",
   "metadata": {},
   "outputs": [],
   "source": [
    "import numpy as np\n",
    "import pandas as pd\n",
    "import matplotlib.pyplot as plt\n",
    "\n",
    "import os\n",
    "from tqdm import tqdm"
   ]
  },
  {
   "cell_type": "markdown",
   "id": "6a2302af-e840-45d7-9304-180dfd6a6e91",
   "metadata": {},
   "source": [
    "# 1. Data Cleaning\n",
    "\n",
    "Handling missing values (NaNs) and padding sequences to equal length."
   ]
  },
  {
   "cell_type": "code",
   "execution_count": 2,
   "id": "1a2dd317-e9f0-4bbb-91fb-1c43dee8cc55",
   "metadata": {},
   "outputs": [],
   "source": [
    "def read_excel(file_path):\n",
    "    df = pd.read_excel(file_path)\n",
    "    float_values = pd.to_numeric(df.values.flatten(), errors='coerce') \n",
    "    numeric_values = np.where(np.isnan(float_values), 0, float_values)\n",
    "    return numeric_values\n",
    "\n",
    "def get_max_length(input_directory):\n",
    "    max_length = 0\n",
    "    for file_name in tqdm(os.listdir(input_directory)):\n",
    "        if file_name.endswith('.xlsx'):\n",
    "            file_path = os.path.join(input_directory, file_name)\n",
    "            data = read_excel(file_path)\n",
    "            if len(data) > max_length:\n",
    "                max_length = len(data)\n",
    "    return max_length\n",
    "\n",
    "def pad_data(data, target_length):\n",
    "    if len(data) >= target_length:\n",
    "        return data[:target_length]\n",
    "    else:\n",
    "        padding = np.zeros(target_length - len(data))\n",
    "        return np.concatenate((data, padding))\n",
    "\n",
    "def process_and_save_excel_files(input_directory, output_directory):\n",
    "    if not os.path.exists(output_directory):\n",
    "        os.makedirs(output_directory)\n",
    "    \n",
    "    target_length = get_max_length(input_directory)\n",
    "    print(\"target_length: \", target_length)\n",
    "    \n",
    "    for file_name in tqdm(os.listdir(input_directory)):\n",
    "        if file_name.endswith('.xlsx'):\n",
    "            file_path = os.path.join(input_directory, file_name)\n",
    "            data = read_excel(file_path)\n",
    "            padded_data = pad_data(data, target_length)\n",
    "            \n",
    "            output_file_path = os.path.join(output_directory, file_name.replace('.xlsx', '.csv'))\n",
    "            pd.DataFrame(padded_data).to_csv(output_file_path, index=False, header=False)\n",
    "\n",
    "    print(\"Processing and saving completed.\")\n"
   ]
  },
  {
   "cell_type": "code",
   "execution_count": 3,
   "id": "0bc91691-59d9-42b7-94aa-0dbd058009cb",
   "metadata": {},
   "outputs": [
    {
     "name": "stderr",
     "output_type": "stream",
     "text": [
      "100%|████████████████████████████████████████████████████████████████████████████████| 300/300 [04:59<00:00,  1.00it/s]\n"
     ]
    },
    {
     "name": "stdout",
     "output_type": "stream",
     "text": [
      "target_length:  72193\n"
     ]
    },
    {
     "name": "stderr",
     "output_type": "stream",
     "text": [
      "100%|████████████████████████████████████████████████████████████████████████████████| 300/300 [04:58<00:00,  1.00it/s]"
     ]
    },
    {
     "name": "stdout",
     "output_type": "stream",
     "text": [
      "Processing and saving completed.\n"
     ]
    },
    {
     "name": "stderr",
     "output_type": "stream",
     "text": [
      "\n"
     ]
    }
   ],
   "source": [
    "input_directory = r\"..\\0. data\\0. PCM_Raw_data\"\n",
    "output_directory = r\"..\\0. data\\1. PCM_Equal_length\"\n",
    "\n",
    "process_and_save_excel_files(input_directory, output_directory)"
   ]
  },
  {
   "cell_type": "markdown",
   "id": "1a36d103-82fd-439c-b5e0-78aae04ff685",
   "metadata": {},
   "source": [
    "# 2. Convert to .wav files\n",
    "Convert to standard .wav (Waveform Audio File Format) files, a widely used uncompressed audio format that preserves high sound quality for analysis.\n",
    "\n",
    "    PDM (Pulse Density Modulation): a system for representing a sampled signal as a stream of single bits. \n",
    "    PCM (Pulse Code Modulation): a system for representing a sampled signal as a series of multi-bit words.\n",
    "\n",
    "\n"
   ]
  },
  {
   "cell_type": "code",
   "execution_count": 4,
   "id": "1f46eace-9dfc-4e39-a547-764c875ffddb",
   "metadata": {},
   "outputs": [
    {
     "name": "stderr",
     "output_type": "stream",
     "text": [
      "100%|████████████████████████████████████████████████████████████████████████████████| 300/300 [00:24<00:00, 12.37it/s]\n"
     ]
    }
   ],
   "source": [
    "import wave\n",
    "import csv\n",
    "import struct\n",
    "import os\n",
    "from tqdm import tqdm  # Progress bar for iteration\n",
    "\n",
    "# Parameter settings\n",
    "input_folder = r'..\\0. data\\1. PCM_Equal_length'  # Folder containing sample CSV files\n",
    "output_folder = r'..\\0. data\\2. Data_wav'         # Folder for output WAV files\n",
    "\n",
    "sample_rate = 16000              # Sampling rate\n",
    "channels = 1                     # Mono channel\n",
    "sample_width = 2                 # 16-bit = 2 bytes\n",
    "max_amplitude = 32767            # Maximum amplitude for 16-bit PCM\n",
    "gain = 1                         # (Gain factor to amplify volume if needed)\n",
    "\n",
    "# Ensure output folder exists\n",
    "if not os.path.exists(output_folder):\n",
    "    os.makedirs(output_folder)\n",
    "\n",
    "# Iterate through all CSV files in the input folder\n",
    "for filename in tqdm(os.listdir(input_folder)):\n",
    "    if filename.endswith('.csv'):\n",
    "        input_csv = os.path.join(input_folder, filename)\n",
    "        output_wav = os.path.join(output_folder, os.path.splitext(filename)[0] + '.wav')\n",
    "\n",
    "        # Read sample data from CSV file\n",
    "        samples = []\n",
    "        with open(input_csv, 'r') as f:\n",
    "            reader = csv.reader(f)\n",
    "            for row in reader:\n",
    "                if row:  # Ensure the row is not empty\n",
    "                    samples.append(float(row[0]))\n",
    "\n",
    "        # Apply gain, round to integer, and clip to 16-bit PCM range\n",
    "        int_samples = []\n",
    "        for sample in samples:\n",
    "            amplified_sample = sample * gain\n",
    "            int_value = round(amplified_sample)\n",
    "            if int_value > max_amplitude:\n",
    "                int_value = max_amplitude\n",
    "            elif int_value < -max_amplitude:\n",
    "                int_value = -max_amplitude\n",
    "            int_samples.append(int_value)\n",
    "\n",
    "        # Create WAV file\n",
    "        with wave.open(output_wav, 'w') as wf:\n",
    "            wf.setnchannels(channels)\n",
    "            wf.setsampwidth(sample_width)\n",
    "            wf.setframerate(sample_rate)\n",
    "            frames = struct.pack('<' + 'h' * len(int_samples), *int_samples)\n",
    "            wf.writeframes(frames)\n",
    "\n",
    "        # print(f\"Successfully generated {output_wav} (with amplified volume)\")\n"
   ]
  }
 ],
 "metadata": {
  "kernelspec": {
   "display_name": "Python 3 (ipykernel)",
   "language": "python",
   "name": "python3"
  },
  "language_info": {
   "codemirror_mode": {
    "name": "ipython",
    "version": 3
   },
   "file_extension": ".py",
   "mimetype": "text/x-python",
   "name": "python",
   "nbconvert_exporter": "python",
   "pygments_lexer": "ipython3",
   "version": "3.9.5"
  }
 },
 "nbformat": 4,
 "nbformat_minor": 5
}
