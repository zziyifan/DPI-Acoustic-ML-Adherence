{
 "cells": [
  {
   "cell_type": "code",
   "execution_count": 1,
   "id": "3ced25ff-9a0e-479d-b9df-a5caddbf8b51",
   "metadata": {},
   "outputs": [],
   "source": [
    "# imports\n",
    "from src.config import *\n",
    "from src.mlflow_logging_multi import train_and_log_model"
   ]
  },
  {
   "cell_type": "markdown",
   "id": "f284a095-ce0f-4e38-a1ac-39cb5a8c36df",
   "metadata": {},
   "source": [
    "# 1. AdaBoost"
   ]
  },
  {
   "cell_type": "code",
   "execution_count": 2,
   "id": "a3c3c576-0e3c-4779-bb44-3ceb3929d4ba",
   "metadata": {},
   "outputs": [
    {
     "name": "stderr",
     "output_type": "stream",
     "text": [
      "2025/04/18 18:14:03 INFO mlflow.tracking.fluent: Experiment with name 'AdaBoostClassifier_6' does not exist. Creating a new experiment.\n",
      "Hyperparameter combinations: 100%|████████████████████████████████████████████████| 200/200 [5:51:20<00:00, 105.40s/it]\n"
     ]
    }
   ],
   "source": [
    "# Parameter ranges\n",
    "param_ranges = {\n",
    "    \"n_estimators\": np.arange(100, 200, 10),\n",
    "    \"learning_rate\": np.linspace(0.01, 1, 10),      \n",
    "    \"algorithm\": [\"SAMME\", \"SAMME.R\"],              \n",
    "    \"random_state\": [42]\n",
    "}\n",
    "\n",
    "# Train and log the model\n",
    "train_and_log_model(model_class=AdaBoostClassifier, param_ranges=param_ranges, feature_set='6', cv_folds=5)"
   ]
  },
  {
   "cell_type": "markdown",
   "id": "ffb4b783-6784-4b8f-8f34-dc0b7dea8a0f",
   "metadata": {},
   "source": [
    "# 2. ExtraTrees"
   ]
  },
  {
   "cell_type": "code",
   "execution_count": 3,
   "id": "400ff73b-b13b-4bad-a45b-53e81880f263",
   "metadata": {},
   "outputs": [
    {
     "name": "stderr",
     "output_type": "stream",
     "text": [
      "2025/04/19 00:05:35 INFO mlflow.tracking.fluent: Experiment with name 'ExtraTreesClassifier_6' does not exist. Creating a new experiment.\n",
      "Hyperparameter combinations: 100%|█████████████████████████████████████████████████████| 60/60 [13:55<00:00, 13.92s/it]\n"
     ]
    }
   ],
   "source": [
    "# Parameter ranges\n",
    "param_ranges = {\n",
    "    \"n_estimators\": np.arange(100, 200, 10),\n",
    "    \"max_depth\": np.arange(1, 10, 3),\n",
    "    \"max_features\": [\"sqrt\", None],\n",
    "    \"random_state\": [42]\n",
    "}\n",
    "\n",
    "# Train and log the model\n",
    "train_and_log_model(model_class=ExtraTreesClassifier, param_ranges=param_ranges, feature_set='6', cv_folds=5)"
   ]
  },
  {
   "cell_type": "markdown",
   "id": "0be29c69-5cf9-4ab7-a871-323f16cc1baf",
   "metadata": {},
   "source": [
    "# 3. SVC"
   ]
  },
  {
   "cell_type": "code",
   "execution_count": 8,
   "id": "b543e28d-73e6-4542-98c5-815e064c2f0c",
   "metadata": {},
   "outputs": [
    {
     "name": "stderr",
     "output_type": "stream",
     "text": [
      "2025/04/19 14:46:28 INFO mlflow.tracking.fluent: Experiment with name 'SVC_6' does not exist. Creating a new experiment.\n",
      "Hyperparameter combinations: 100%|███████████████████████████████████████████████████| 100/100 [04:10<00:00,  2.51s/it]\n"
     ]
    }
   ],
   "source": [
    "# Parameter ranges\n",
    "param_ranges = {\n",
    "    'kernel': ['linear','poly', 'rbf', 'sigmoid'],\n",
    "    'C': [0.1, 1, 5, 10, 20],                  # Regularization parameter. \n",
    "    'gamma': ['scale', 'auto', 0.01, 0.1, 1],  # Kernel coefficient for ‘rbf’, ‘poly’ and ‘sigmoid’.\n",
    "    'probability': [True]\n",
    "}\n",
    "\n",
    "# Train and log the model\n",
    "train_and_log_model(model_class=SVC, param_ranges=param_ranges, feature_set='6', cv_folds=5)"
   ]
  },
  {
   "cell_type": "markdown",
   "id": "13b00767-03c8-495e-8c27-0bf8372cb42d",
   "metadata": {},
   "source": [
    "# 4. XGBClassifier"
   ]
  },
  {
   "cell_type": "code",
   "execution_count": 2,
   "id": "827b70d7-81ad-4303-8daf-111d8eb07425",
   "metadata": {},
   "outputs": [
    {
     "name": "stderr",
     "output_type": "stream",
     "text": [
      "2025/04/19 15:03:32 INFO mlflow.tracking.fluent: Experiment with name 'XGBClassifier_6' does not exist. Creating a new experiment.\n"
     ]
    },
    {
     "name": "stdout",
     "output_type": "stream",
     "text": [
      "[Note] Adjusting labels: min label is 1, shifting to start from 0 for XGBClassifier.\n"
     ]
    },
    {
     "name": "stderr",
     "output_type": "stream",
     "text": [
      "Hyperparameter combinations: 100%|██████████████████████████████████████████████████| 80/80 [2:28:36<00:00, 111.45s/it]\n"
     ]
    }
   ],
   "source": [
    "# Parameter ranges\n",
    "param_ranges = {\n",
    "    \"n_estimators\": np.arange(50, 201, 50),         \n",
    "    \"learning_rate\": [0.01,0.1,0.5,1],    \n",
    "    \"max_depth\": np.arange(2, 11, 2),                       \n",
    "    \"random_state\": [42]\n",
    "}\n",
    "\n",
    "# Train and log the model\n",
    "train_and_log_model(model_class=XGBClassifier, param_ranges=param_ranges, feature_set='6', cv_folds=5)"
   ]
  },
  {
   "cell_type": "markdown",
   "id": "ad411b3e-ead4-4a19-bccd-9667798da5d0",
   "metadata": {},
   "source": [
    "# 5. LogisticRegression"
   ]
  },
  {
   "cell_type": "code",
   "execution_count": 6,
   "id": "9888d683-08d3-4ba3-a3e7-7a6448c1a186",
   "metadata": {},
   "outputs": [
    {
     "name": "stderr",
     "output_type": "stream",
     "text": [
      "2025/04/19 07:54:07 INFO mlflow.tracking.fluent: Experiment with name 'LogisticRegression_6' does not exist. Creating a new experiment.\n",
      "Hyperparameter combinations: 100%|█████████████████████████████████████████████████████| 60/60 [20:29<00:00, 20.49s/it]\n"
     ]
    }
   ],
   "source": [
    "# Parameter ranges\n",
    "param_ranges = {\n",
    "    \"penalty\": [\"l2\"],  # [\"l1\", \"l2\", \"elasticnet\"]\n",
    "    \"C\": np.logspace(-4, 4, 4),                    \n",
    "    \"solver\": [\"liblinear\", \"saga\", \"lbfgs\", \"newton-cg\", \"sag\"],   \n",
    "    \"max_iter\": [100, 200, 500],                      \n",
    "    \"random_state\": [42]                            \n",
    "}\n",
    "\n",
    "\n",
    "# Train and log the model\n",
    "train_and_log_model(model_class=LogisticRegression, param_ranges=param_ranges, feature_set='6', cv_folds=5)"
   ]
  }
 ],
 "metadata": {
  "kernelspec": {
   "display_name": "Python 3 (ipykernel)",
   "language": "python",
   "name": "python3"
  },
  "language_info": {
   "codemirror_mode": {
    "name": "ipython",
    "version": 3
   },
   "file_extension": ".py",
   "mimetype": "text/x-python",
   "name": "python",
   "nbconvert_exporter": "python",
   "pygments_lexer": "ipython3",
   "version": "3.9.5"
  }
 },
 "nbformat": 4,
 "nbformat_minor": 5
}
